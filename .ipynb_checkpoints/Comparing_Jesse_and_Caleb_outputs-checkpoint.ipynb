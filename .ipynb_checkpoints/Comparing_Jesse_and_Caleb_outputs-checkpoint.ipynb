{
 "cells": [
  {
   "cell_type": "markdown",
   "metadata": {},
   "source": [
    "# Comparing Jesse's previous output to new program output"
   ]
  },
  {
   "cell_type": "code",
   "execution_count": null,
   "metadata": {},
   "outputs": [],
   "source": [
    "import random as rand\n",
    "import pandas as pd\n",
    "from sklearn.metrics.pairwise import cosine_similarity\n",
    "import matplotlib.pyplot as plt\n",
    "import numpy as np\n",
    "pd.set_option('display.max_columns', None)"
   ]
  },
  {
   "cell_type": "code",
   "execution_count": null,
   "metadata": {},
   "outputs": [],
   "source": [
    "def plot_spec(SPECTRA, COLOR):\n",
    "    plt.vlines(SPECTRA.columns, np.repeat(0, len(SPECTRA.columns)), SPECTRA, colors=COLOR)"
   ]
  },
  {
   "cell_type": "code",
   "execution_count": null,
   "metadata": {},
   "outputs": [],
   "source": [
    "def plot_line(v, m):\n",
    "    plt.hlines(y=0.7,xmin=0,xmax=m,colors='red')"
   ]
  },
  {
   "cell_type": "code",
   "execution_count": null,
   "metadata": {},
   "outputs": [],
   "source": [
    "jesse_df = pd.read_csv('Data/MSPLIToutput_cantRead.txt', sep='\\t')\n",
    "caleb_df = pd.read_csv('Data/fullOutput_lib31_match3_ppm10_sqrt.csv')\n",
    "\n",
    "var1 = '#shared'\n",
    "var2 = 'shared'\n",
    "#var1 = 'cosine'\n",
    "#var2 = 'cosine'\n",
    "\n",
    "\n",
    "jesse_df['ID'] = list(zip(jesse_df['Scan#'].tolist(),jesse_df['Peptide'].tolist()))\n",
    "jesse_df = jesse_df.loc[:, jesse_df.columns.intersection(['ID',var1])]\n",
    "jesse_dict = jesse_df.set_index('ID')[var1].to_dict()\n",
    "\n",
    "caleb_df['ID'] = list(zip(caleb_df['scan'].tolist(),caleb_df['peptide'].tolist()))\n",
    "caleb_df = caleb_df[caleb_df['shared'] >= 15].reset_index(drop=True)\n",
    "\n",
    "caleb_df = caleb_df.loc[:, caleb_df.columns.intersection(['ID',var2])]\n",
    "caleb_df_high = caleb_df.drop(caleb_df[caleb_df[var2] < 0.7].index) \n",
    "caleb_df_low = caleb_df.drop(caleb_df[caleb_df[var2] >= 0.7].index) \n",
    "\n",
    "caleb_dict_high = caleb_df_high.set_index('ID')[var2].to_dict()\n",
    "caleb_dict_low = caleb_df_low.set_index('ID')[var2].to_dict()"
   ]
  },
  {
   "cell_type": "code",
   "execution_count": null,
   "metadata": {},
   "outputs": [],
   "source": [
    "len(jesse_dict.keys())"
   ]
  },
  {
   "cell_type": "code",
   "execution_count": null,
   "metadata": {},
   "outputs": [],
   "source": [
    "len(caleb_dict_high.keys())"
   ]
  },
  {
   "cell_type": "code",
   "execution_count": null,
   "metadata": {},
   "outputs": [],
   "source": [
    "len(caleb_dict_low.keys())"
   ]
  },
  {
   "cell_type": "markdown",
   "metadata": {},
   "source": [
    "## Intersect between Jesse's data and Caleb's data (0.7 and higher)"
   ]
  },
  {
   "cell_type": "code",
   "execution_count": null,
   "metadata": {},
   "outputs": [],
   "source": [
    "intersection = sorted(list(set(jesse_dict.keys()) & set(caleb_dict_high.keys())))\n",
    "len(intersection)"
   ]
  },
  {
   "cell_type": "code",
   "execution_count": null,
   "metadata": {
    "scrolled": true
   },
   "outputs": [],
   "source": [
    "jesse_intersect = pd.DataFrame([[jesse_dict[k] for k in intersection]])\n",
    "caleb_intersect = pd.DataFrame([[caleb_dict_high[k] for k in intersection]])\n",
    "diff_intersect = pd.DataFrame([[abs(caleb_dict_high[k]-jesse_dict[k]) for k in intersection]])\n",
    "compare = pd.DataFrame([[caleb_dict_high[k] for k in intersection],[jesse_dict[k] for k in intersection],intersection])\n",
    "compare"
   ]
  },
  {
   "cell_type": "code",
   "execution_count": null,
   "metadata": {
    "scrolled": true
   },
   "outputs": [],
   "source": [
    "plot_spec(caleb_intersect, 'blue')\n",
    "plot_spec(jesse_intersect, 'green')\n",
    "plot_spec(-diff_intersect, 'red')\n",
    "plot_line(0.7,len(intersection))"
   ]
  },
  {
   "cell_type": "markdown",
   "metadata": {},
   "source": [
    "### first 150 (to improve visuals)"
   ]
  },
  {
   "cell_type": "code",
   "execution_count": null,
   "metadata": {
    "scrolled": true
   },
   "outputs": [],
   "source": [
    "jesse_intersect = jesse_intersect.iloc[:,:150]\n",
    "caleb_intersect = caleb_intersect.iloc[:,:150]\n",
    "diff_intersect = diff_intersect.iloc[:,:150]"
   ]
  },
  {
   "cell_type": "code",
   "execution_count": null,
   "metadata": {
    "scrolled": true
   },
   "outputs": [],
   "source": [
    "plot_spec(caleb_intersect, 'blue')\n",
    "plot_spec(jesse_intersect, 'green')\n",
    "plot_spec(-diff_intersect, 'red')\n",
    "plot_line(0.7,150)"
   ]
  },
  {
   "cell_type": "markdown",
   "metadata": {},
   "source": [
    "## Intersect between Jesse's data and Caleb's data (less than 0.7)"
   ]
  },
  {
   "cell_type": "code",
   "execution_count": null,
   "metadata": {},
   "outputs": [],
   "source": [
    "intersection = sorted(list(set(jesse_dict.keys()) & set(caleb_dict_low.keys())))\n",
    "len(intersection)"
   ]
  },
  {
   "cell_type": "code",
   "execution_count": null,
   "metadata": {},
   "outputs": [],
   "source": [
    "jesse_intersect = pd.DataFrame([[jesse_dict[k] for k in intersection]])\n",
    "caleb_intersect = pd.DataFrame([[caleb_dict_low[k] for k in intersection]])\n",
    "diff_intersect = pd.DataFrame([[abs(caleb_dict_low[k]-jesse_dict[k]) for k in intersection]])\n",
    "compare = pd.DataFrame([[caleb_dict_low[k] for k in intersection],[jesse_dict[k] for k in intersection],intersection])\n",
    "compare"
   ]
  },
  {
   "cell_type": "code",
   "execution_count": null,
   "metadata": {
    "scrolled": false
   },
   "outputs": [],
   "source": [
    "plot_spec(jesse_intersect, 'green')\n",
    "plot_spec(caleb_intersect, 'blue')\n",
    "plot_spec(-diff_intersect, 'red')\n",
    "plot_line(0.7,len(intersection))"
   ]
  },
  {
   "cell_type": "markdown",
   "metadata": {},
   "source": [
    "## Difference - Jesse's Data (no match in Caleb's 0.7 and higher data)"
   ]
  },
  {
   "cell_type": "code",
   "execution_count": null,
   "metadata": {},
   "outputs": [],
   "source": [
    "diff = sorted(list(set(jesse_dict.keys()) - set(caleb_dict_high.keys())))\n",
    "print(len(diff))"
   ]
  },
  {
   "cell_type": "code",
   "execution_count": null,
   "metadata": {},
   "outputs": [],
   "source": [
    "jesse_difference = pd.DataFrame([[jesse_dict[k] for k in diff],diff])\n",
    "jesse_difference"
   ]
  },
  {
   "cell_type": "code",
   "execution_count": null,
   "metadata": {
    "scrolled": true
   },
   "outputs": [],
   "source": [
    "plot_spec(jesse_difference, 'green')\n",
    "plot_line(0.7,len(diff))"
   ]
  },
  {
   "cell_type": "markdown",
   "metadata": {},
   "source": [
    "### first 150 (to improve visuals)"
   ]
  },
  {
   "cell_type": "code",
   "execution_count": null,
   "metadata": {},
   "outputs": [],
   "source": [
    "jesse_diff_150 = jesse_difference.iloc[:,:150]"
   ]
  },
  {
   "cell_type": "code",
   "execution_count": null,
   "metadata": {
    "scrolled": true
   },
   "outputs": [],
   "source": [
    "plot_spec(jesse_diff_150, 'green')\n",
    "plot_line(0.7,150)"
   ]
  },
  {
   "cell_type": "markdown",
   "metadata": {},
   "source": [
    "## Difference - Caleb's 0.7 or higher Data (no match in Jesse's)"
   ]
  },
  {
   "cell_type": "code",
   "execution_count": null,
   "metadata": {},
   "outputs": [],
   "source": [
    "diff = sorted(list(set(caleb_dict_high.keys()) - set(jesse_dict.keys())))\n",
    "print(len(diff))"
   ]
  },
  {
   "cell_type": "code",
   "execution_count": null,
   "metadata": {},
   "outputs": [],
   "source": [
    "caleb_difference = pd.DataFrame([[caleb_dict_high[k] for k in diff],diff])\n",
    "caleb_difference"
   ]
  },
  {
   "cell_type": "code",
   "execution_count": null,
   "metadata": {},
   "outputs": [],
   "source": [
    "plot_spec(caleb_difference, 'blue')\n",
    "plot_line(0.7,len(diff))"
   ]
  },
  {
   "cell_type": "markdown",
   "metadata": {},
   "source": [
    "### first 150 (to improve visuals)"
   ]
  },
  {
   "cell_type": "code",
   "execution_count": null,
   "metadata": {},
   "outputs": [],
   "source": [
    "caleb_diff_150 = caleb_difference.iloc[:,:150]"
   ]
  },
  {
   "cell_type": "code",
   "execution_count": null,
   "metadata": {
    "scrolled": true
   },
   "outputs": [],
   "source": [
    "plot_spec(caleb_diff_150, 'blue')\n",
    "plot_line(0.7,150)"
   ]
  }
 ],
 "metadata": {
  "kernelspec": {
   "display_name": "Python 3",
   "language": "python",
   "name": "python3"
  },
  "language_info": {
   "codemirror_mode": {
    "name": "ipython",
    "version": 3
   },
   "file_extension": ".py",
   "mimetype": "text/x-python",
   "name": "python",
   "nbconvert_exporter": "python",
   "pygments_lexer": "ipython3",
   "version": "3.8.3"
  }
 },
 "nbformat": 4,
 "nbformat_minor": 4
}
