{
 "cells": [
  {
   "cell_type": "markdown",
   "metadata": {},
   "source": [
    "# Determining the Program's Lag"
   ]
  },
  {
   "cell_type": "code",
   "execution_count": 2,
   "metadata": {},
   "outputs": [],
   "source": [
    "import pandas as pd\n",
    "from matplotlib import pyplot"
   ]
  },
  {
   "cell_type": "code",
   "execution_count": 3,
   "metadata": {
    "scrolled": true
   },
   "outputs": [
    {
     "data": {
      "text/html": [
       "<div>\n",
       "<style scoped>\n",
       "    .dataframe tbody tr th:only-of-type {\n",
       "        vertical-align: middle;\n",
       "    }\n",
       "\n",
       "    .dataframe tbody tr th {\n",
       "        vertical-align: top;\n",
       "    }\n",
       "\n",
       "    .dataframe thead th {\n",
       "        text-align: right;\n",
       "    }\n",
       "</style>\n",
       "<table border=\"1\" class=\"dataframe\">\n",
       "  <thead>\n",
       "    <tr style=\"text-align: right;\">\n",
       "      <th></th>\n",
       "      <th>Index</th>\n",
       "      <th>TimeElapsed</th>\n",
       "      <th>NumPeaks</th>\n",
       "      <th>ExpPrecursorMz</th>\n",
       "      <th>NumLibrarySpectra</th>\n",
       "    </tr>\n",
       "  </thead>\n",
       "  <tbody>\n",
       "    <tr>\n",
       "      <th>0</th>\n",
       "      <td>1</td>\n",
       "      <td>3.235837</td>\n",
       "      <td>98</td>\n",
       "      <td>401.0</td>\n",
       "      <td>476</td>\n",
       "    </tr>\n",
       "    <tr>\n",
       "      <th>1</th>\n",
       "      <td>2</td>\n",
       "      <td>0.430953</td>\n",
       "      <td>115</td>\n",
       "      <td>402.0</td>\n",
       "      <td>469</td>\n",
       "    </tr>\n",
       "    <tr>\n",
       "      <th>2</th>\n",
       "      <td>3</td>\n",
       "      <td>0.434628</td>\n",
       "      <td>112</td>\n",
       "      <td>403.0</td>\n",
       "      <td>486</td>\n",
       "    </tr>\n",
       "    <tr>\n",
       "      <th>3</th>\n",
       "      <td>4</td>\n",
       "      <td>0.519193</td>\n",
       "      <td>141</td>\n",
       "      <td>404.0</td>\n",
       "      <td>540</td>\n",
       "    </tr>\n",
       "    <tr>\n",
       "      <th>4</th>\n",
       "      <td>5</td>\n",
       "      <td>0.595844</td>\n",
       "      <td>129</td>\n",
       "      <td>405.0</td>\n",
       "      <td>592</td>\n",
       "    </tr>\n",
       "    <tr>\n",
       "      <th>...</th>\n",
       "      <td>...</td>\n",
       "      <td>...</td>\n",
       "      <td>...</td>\n",
       "      <td>...</td>\n",
       "      <td>...</td>\n",
       "    </tr>\n",
       "    <tr>\n",
       "      <th>695</th>\n",
       "      <td>696</td>\n",
       "      <td>10.567005</td>\n",
       "      <td>1193</td>\n",
       "      <td>496.0</td>\n",
       "      <td>1175</td>\n",
       "    </tr>\n",
       "    <tr>\n",
       "      <th>696</th>\n",
       "      <td>697</td>\n",
       "      <td>9.839448</td>\n",
       "      <td>995</td>\n",
       "      <td>497.0</td>\n",
       "      <td>1137</td>\n",
       "    </tr>\n",
       "    <tr>\n",
       "      <th>697</th>\n",
       "      <td>698</td>\n",
       "      <td>8.973457</td>\n",
       "      <td>907</td>\n",
       "      <td>498.0</td>\n",
       "      <td>1064</td>\n",
       "    </tr>\n",
       "    <tr>\n",
       "      <th>698</th>\n",
       "      <td>699</td>\n",
       "      <td>7.477899</td>\n",
       "      <td>944</td>\n",
       "      <td>499.0</td>\n",
       "      <td>1011</td>\n",
       "    </tr>\n",
       "    <tr>\n",
       "      <th>699</th>\n",
       "      <td>700</td>\n",
       "      <td>8.286494</td>\n",
       "      <td>1002</td>\n",
       "      <td>500.0</td>\n",
       "      <td>1139</td>\n",
       "    </tr>\n",
       "  </tbody>\n",
       "</table>\n",
       "<p>700 rows × 5 columns</p>\n",
       "</div>"
      ],
      "text/plain": [
       "     Index  TimeElapsed  NumPeaks  ExpPrecursorMz  NumLibrarySpectra\n",
       "0        1     3.235837        98           401.0                476\n",
       "1        2     0.430953       115           402.0                469\n",
       "2        3     0.434628       112           403.0                486\n",
       "3        4     0.519193       141           404.0                540\n",
       "4        5     0.595844       129           405.0                592\n",
       "..     ...          ...       ...             ...                ...\n",
       "695    696    10.567005      1193           496.0               1175\n",
       "696    697     9.839448       995           497.0               1137\n",
       "697    698     8.973457       907           498.0               1064\n",
       "698    699     7.477899       944           499.0               1011\n",
       "699    700     8.286494      1002           500.0               1139\n",
       "\n",
       "[700 rows x 5 columns]"
      ]
     },
     "execution_count": 3,
     "metadata": {},
     "output_type": "execute_result"
    }
   ],
   "source": [
    "baseline = pd.read_csv('Data/timeGraph_baseline.csv')\n",
    "baseline"
   ]
  },
  {
   "cell_type": "markdown",
   "metadata": {},
   "source": [
    "## Supplemental Graph1: Number of Peaks in each Query Spectrum"
   ]
  },
  {
   "cell_type": "code",
   "execution_count": 4,
   "metadata": {},
   "outputs": [
    {
     "data": {
      "text/plain": [
       "<matplotlib.axes._subplots.AxesSubplot at 0x7fe4b11fa0a0>"
      ]
     },
     "execution_count": 4,
     "metadata": {},
     "output_type": "execute_result"
    },
    {
     "data": {
      "image/png": "[encoded data removed]",
      "text/plain": [
       "<Figure size 432x288 with 1 Axes>"
      ]
     },
     "metadata": {
      "needs_background": "light"
     },
     "output_type": "display_data"
    }
   ],
   "source": [
    "baseline.plot.line(x=\"Index\",y=\"NumPeaks\",title=\"Number of Peaks Per Query Spectra, Sequentially\")"
   ]
  },
  {
   "cell_type": "code",
   "execution_count": 5,
   "metadata": {},
   "outputs": [
    {
     "data": {
      "text/plain": [
       "<matplotlib.axes._subplots.AxesSubplot at 0x7fe4b12fe760>"
      ]
     },
     "execution_count": 5,
     "metadata": {},
     "output_type": "execute_result"
    },
    {
     "data": {
      "image/png": "[encoded data removed]",
      "text/plain": [
       "<Figure size 432x288 with 1 Axes>"
      ]
     },
     "metadata": {
      "needs_background": "light"
     },
     "output_type": "display_data"
    }
   ],
   "source": [
    "baseline.plot.line(x=\"Index\",y=\"ExpPrecursorMz\",title=\"PrecursorMz Per Qeury Spectra, Sequentially\")"
   ]
  },
  {
   "cell_type": "code",
   "execution_count": 6,
   "metadata": {
    "scrolled": true
   },
   "outputs": [
    {
     "data": {
      "text/plain": [
       "<matplotlib.axes._subplots.AxesSubplot at 0x7fe4b142fb80>"
      ]
     },
     "execution_count": 6,
     "metadata": {},
     "output_type": "execute_result"
    },
    {
     "data": {
      "image/png": "[encoded data removed]",
      "text/plain": [
       "<Figure size 432x288 with 1 Axes>"
      ]
     },
     "metadata": {
      "needs_background": "light"
     },
     "output_type": "display_data"
    }
   ],
   "source": [
    "baseline.plot.line(x=\"Index\",y=\"NumLibrarySpectra\",title=\"Number of Relevant Library Spectra Per Query Spectra, Sequentially\")"
   ]
  },
  {
   "cell_type": "markdown",
   "metadata": {},
   "source": [
    "## Baseline Time Plot"
   ]
  },
  {
   "cell_type": "code",
   "execution_count": 7,
   "metadata": {},
   "outputs": [
    {
     "data": {
      "text/plain": [
       "(0.0, 12.0)"
      ]
     },
     "execution_count": 7,
     "metadata": {},
     "output_type": "execute_result"
    },
    {
     "data": {
      "image/png": "[encoded data removed]",
      "text/plain": [
       "<Figure size 432x288 with 1 Axes>"
      ]
     },
     "metadata": {
      "needs_background": "light"
     },
     "output_type": "display_data"
    }
   ],
   "source": [
    "plot1 = baseline.plot.line(x=\"Index\",y=\"TimeElapsed\",title=\"Time Used Per Query Spectra, Sequentially\")\n",
    "plot1.set_ylim(0,12)"
   ]
  },
  {
   "cell_type": "markdown",
   "metadata": {},
   "source": [
    "## Eliminating \"Writer\" variable"
   ]
  },
  {
   "cell_type": "code",
   "execution_count": 8,
   "metadata": {},
   "outputs": [
    {
     "data": {
      "text/html": [
       "<div>\n",
       "<style scoped>\n",
       "    .dataframe tbody tr th:only-of-type {\n",
       "        vertical-align: middle;\n",
       "    }\n",
       "\n",
       "    .dataframe tbody tr th {\n",
       "        vertical-align: top;\n",
       "    }\n",
       "\n",
       "    .dataframe thead th {\n",
       "        text-align: right;\n",
       "    }\n",
       "</style>\n",
       "<table border=\"1\" class=\"dataframe\">\n",
       "  <thead>\n",
       "    <tr style=\"text-align: right;\">\n",
       "      <th></th>\n",
       "      <th>Index</th>\n",
       "      <th>TimeElapsed</th>\n",
       "      <th>NumPeaks</th>\n",
       "      <th>ExpPrecursorMz</th>\n",
       "      <th>NumLibrarySpectra</th>\n",
       "    </tr>\n",
       "  </thead>\n",
       "  <tbody>\n",
       "    <tr>\n",
       "      <th>0</th>\n",
       "      <td>1</td>\n",
       "      <td>3.095707</td>\n",
       "      <td>98</td>\n",
       "      <td>401.0</td>\n",
       "      <td>476</td>\n",
       "    </tr>\n",
       "    <tr>\n",
       "      <th>1</th>\n",
       "      <td>2</td>\n",
       "      <td>0.388690</td>\n",
       "      <td>115</td>\n",
       "      <td>402.0</td>\n",
       "      <td>469</td>\n",
       "    </tr>\n",
       "    <tr>\n",
       "      <th>2</th>\n",
       "      <td>3</td>\n",
       "      <td>0.522903</td>\n",
       "      <td>112</td>\n",
       "      <td>403.0</td>\n",
       "      <td>486</td>\n",
       "    </tr>\n",
       "    <tr>\n",
       "      <th>3</th>\n",
       "      <td>4</td>\n",
       "      <td>0.579046</td>\n",
       "      <td>141</td>\n",
       "      <td>404.0</td>\n",
       "      <td>540</td>\n",
       "    </tr>\n",
       "    <tr>\n",
       "      <th>4</th>\n",
       "      <td>5</td>\n",
       "      <td>0.682733</td>\n",
       "      <td>129</td>\n",
       "      <td>405.0</td>\n",
       "      <td>592</td>\n",
       "    </tr>\n",
       "    <tr>\n",
       "      <th>...</th>\n",
       "      <td>...</td>\n",
       "      <td>...</td>\n",
       "      <td>...</td>\n",
       "      <td>...</td>\n",
       "      <td>...</td>\n",
       "    </tr>\n",
       "    <tr>\n",
       "      <th>695</th>\n",
       "      <td>696</td>\n",
       "      <td>8.656167</td>\n",
       "      <td>1193</td>\n",
       "      <td>496.0</td>\n",
       "      <td>1175</td>\n",
       "    </tr>\n",
       "    <tr>\n",
       "      <th>696</th>\n",
       "      <td>697</td>\n",
       "      <td>10.099400</td>\n",
       "      <td>995</td>\n",
       "      <td>497.0</td>\n",
       "      <td>1137</td>\n",
       "    </tr>\n",
       "    <tr>\n",
       "      <th>697</th>\n",
       "      <td>698</td>\n",
       "      <td>7.364022</td>\n",
       "      <td>907</td>\n",
       "      <td>498.0</td>\n",
       "      <td>1064</td>\n",
       "    </tr>\n",
       "    <tr>\n",
       "      <th>698</th>\n",
       "      <td>699</td>\n",
       "      <td>6.076361</td>\n",
       "      <td>944</td>\n",
       "      <td>499.0</td>\n",
       "      <td>1011</td>\n",
       "    </tr>\n",
       "    <tr>\n",
       "      <th>699</th>\n",
       "      <td>700</td>\n",
       "      <td>6.018189</td>\n",
       "      <td>1002</td>\n",
       "      <td>500.0</td>\n",
       "      <td>1139</td>\n",
       "    </tr>\n",
       "  </tbody>\n",
       "</table>\n",
       "<p>700 rows × 5 columns</p>\n",
       "</div>"
      ],
      "text/plain": [
       "     Index  TimeElapsed  NumPeaks  ExpPrecursorMz  NumLibrarySpectra\n",
       "0        1     3.095707        98           401.0                476\n",
       "1        2     0.388690       115           402.0                469\n",
       "2        3     0.522903       112           403.0                486\n",
       "3        4     0.579046       141           404.0                540\n",
       "4        5     0.682733       129           405.0                592\n",
       "..     ...          ...       ...             ...                ...\n",
       "695    696     8.656167      1193           496.0               1175\n",
       "696    697    10.099400       995           497.0               1137\n",
       "697    698     7.364022       907           498.0               1064\n",
       "698    699     6.076361       944           499.0               1011\n",
       "699    700     6.018189      1002           500.0               1139\n",
       "\n",
       "[700 rows x 5 columns]"
      ]
     },
     "execution_count": 8,
     "metadata": {},
     "output_type": "execute_result"
    }
   ],
   "source": [
    "writerRemoved = pd.read_csv('Data/timeGraph_writerRemoved.csv')\n",
    "writerRemoved"
   ]
  },
  {
   "cell_type": "code",
   "execution_count": 9,
   "metadata": {
    "scrolled": false
   },
   "outputs": [
    {
     "data": {
      "text/plain": [
       "(0.0, 12.0)"
      ]
     },
     "execution_count": 9,
     "metadata": {},
     "output_type": "execute_result"
    },
    {
     "data": {
      "image/png": "[encoded data removed]",
      "text/plain": [
       "<Figure size 432x288 with 1 Axes>"
      ]
     },
     "metadata": {
      "needs_background": "light"
     },
     "output_type": "display_data"
    }
   ],
   "source": [
    "plot2 = writerRemoved.plot.line(x=\"Index\",y=\"TimeElapsed\",title=\"Time Used Per Query Spectra, Sequentially\")\n",
    "plot2.set_ylim(0,12)"
   ]
  },
  {
   "cell_type": "markdown",
   "metadata": {},
   "source": [
    "## Eliminating Cosine function"
   ]
  },
  {
   "cell_type": "code",
   "execution_count": 10,
   "metadata": {},
   "outputs": [
    {
     "data": {
      "text/html": [
       "<div>\n",
       "<style scoped>\n",
       "    .dataframe tbody tr th:only-of-type {\n",
       "        vertical-align: middle;\n",
       "    }\n",
       "\n",
       "    .dataframe tbody tr th {\n",
       "        vertical-align: top;\n",
       "    }\n",
       "\n",
       "    .dataframe thead th {\n",
       "        text-align: right;\n",
       "    }\n",
       "</style>\n",
       "<table border=\"1\" class=\"dataframe\">\n",
       "  <thead>\n",
       "    <tr style=\"text-align: right;\">\n",
       "      <th></th>\n",
       "      <th>Index</th>\n",
       "      <th>TimeElapsed</th>\n",
       "      <th>NumPeaks</th>\n",
       "      <th>ExpPrecursorMz</th>\n",
       "      <th>NumLibrarySpectra</th>\n",
       "    </tr>\n",
       "  </thead>\n",
       "  <tbody>\n",
       "    <tr>\n",
       "      <th>0</th>\n",
       "      <td>1</td>\n",
       "      <td>2.961769</td>\n",
       "      <td>98</td>\n",
       "      <td>401.0</td>\n",
       "      <td>476</td>\n",
       "    </tr>\n",
       "    <tr>\n",
       "      <th>1</th>\n",
       "      <td>2</td>\n",
       "      <td>0.018335</td>\n",
       "      <td>115</td>\n",
       "      <td>402.0</td>\n",
       "      <td>469</td>\n",
       "    </tr>\n",
       "    <tr>\n",
       "      <th>2</th>\n",
       "      <td>3</td>\n",
       "      <td>0.020338</td>\n",
       "      <td>112</td>\n",
       "      <td>403.0</td>\n",
       "      <td>486</td>\n",
       "    </tr>\n",
       "    <tr>\n",
       "      <th>3</th>\n",
       "      <td>4</td>\n",
       "      <td>0.021528</td>\n",
       "      <td>141</td>\n",
       "      <td>404.0</td>\n",
       "      <td>540</td>\n",
       "    </tr>\n",
       "    <tr>\n",
       "      <th>4</th>\n",
       "      <td>5</td>\n",
       "      <td>0.022002</td>\n",
       "      <td>129</td>\n",
       "      <td>405.0</td>\n",
       "      <td>592</td>\n",
       "    </tr>\n",
       "    <tr>\n",
       "      <th>...</th>\n",
       "      <td>...</td>\n",
       "      <td>...</td>\n",
       "      <td>...</td>\n",
       "      <td>...</td>\n",
       "      <td>...</td>\n",
       "    </tr>\n",
       "    <tr>\n",
       "      <th>695</th>\n",
       "      <td>696</td>\n",
       "      <td>0.025514</td>\n",
       "      <td>1193</td>\n",
       "      <td>496.0</td>\n",
       "      <td>1175</td>\n",
       "    </tr>\n",
       "    <tr>\n",
       "      <th>696</th>\n",
       "      <td>697</td>\n",
       "      <td>0.023288</td>\n",
       "      <td>995</td>\n",
       "      <td>497.0</td>\n",
       "      <td>1137</td>\n",
       "    </tr>\n",
       "    <tr>\n",
       "      <th>697</th>\n",
       "      <td>698</td>\n",
       "      <td>0.022893</td>\n",
       "      <td>907</td>\n",
       "      <td>498.0</td>\n",
       "      <td>1064</td>\n",
       "    </tr>\n",
       "    <tr>\n",
       "      <th>698</th>\n",
       "      <td>699</td>\n",
       "      <td>0.022578</td>\n",
       "      <td>944</td>\n",
       "      <td>499.0</td>\n",
       "      <td>1011</td>\n",
       "    </tr>\n",
       "    <tr>\n",
       "      <th>699</th>\n",
       "      <td>700</td>\n",
       "      <td>0.022970</td>\n",
       "      <td>1002</td>\n",
       "      <td>500.0</td>\n",
       "      <td>1139</td>\n",
       "    </tr>\n",
       "  </tbody>\n",
       "</table>\n",
       "<p>700 rows × 5 columns</p>\n",
       "</div>"
      ],
      "text/plain": [
       "     Index  TimeElapsed  NumPeaks  ExpPrecursorMz  NumLibrarySpectra\n",
       "0        1     2.961769        98           401.0                476\n",
       "1        2     0.018335       115           402.0                469\n",
       "2        3     0.020338       112           403.0                486\n",
       "3        4     0.021528       141           404.0                540\n",
       "4        5     0.022002       129           405.0                592\n",
       "..     ...          ...       ...             ...                ...\n",
       "695    696     0.025514      1193           496.0               1175\n",
       "696    697     0.023288       995           497.0               1137\n",
       "697    698     0.022893       907           498.0               1064\n",
       "698    699     0.022578       944           499.0               1011\n",
       "699    700     0.022970      1002           500.0               1139\n",
       "\n",
       "[700 rows x 5 columns]"
      ]
     },
     "execution_count": 10,
     "metadata": {},
     "output_type": "execute_result"
    }
   ],
   "source": [
    "cosineRemoved = pd.read_csv('Data/timeGraph_cosineRemoved.csv')\n",
    "cosineRemoved"
   ]
  },
  {
   "cell_type": "code",
   "execution_count": 11,
   "metadata": {
    "scrolled": true
   },
   "outputs": [
    {
     "data": {
      "text/plain": [
       "(0.0, 12.0)"
      ]
     },
     "execution_count": 11,
     "metadata": {},
     "output_type": "execute_result"
    },
    {
     "data": {
      "image/png": "[encoded data removed]",
      "text/plain": [
       "<Figure size 432x288 with 1 Axes>"
      ]
     },
     "metadata": {
      "needs_background": "light"
     },
     "output_type": "display_data"
    }
   ],
   "source": [
    "plot3 = cosineRemoved.plot.line(x=\"Index\",y=\"TimeElapsed\",title=\"Time Used Per Query Spectra, Sequentially\")\n",
    "plot3.set_ylim(0,12)"
   ]
  },
  {
   "cell_type": "code",
   "execution_count": 12,
   "metadata": {},
   "outputs": [
    {
     "data": {
      "text/html": [
       "<div>\n",
       "<style scoped>\n",
       "    .dataframe tbody tr th:only-of-type {\n",
       "        vertical-align: middle;\n",
       "    }\n",
       "\n",
       "    .dataframe tbody tr th {\n",
       "        vertical-align: top;\n",
       "    }\n",
       "\n",
       "    .dataframe thead th {\n",
       "        text-align: right;\n",
       "    }\n",
       "</style>\n",
       "<table border=\"1\" class=\"dataframe\">\n",
       "  <thead>\n",
       "    <tr style=\"text-align: right;\">\n",
       "      <th></th>\n",
       "      <th>Index</th>\n",
       "      <th>TimeElapsed</th>\n",
       "      <th>NumPeaks</th>\n",
       "      <th>ExpPrecursorMz</th>\n",
       "      <th>NumLibrarySpectra</th>\n",
       "    </tr>\n",
       "  </thead>\n",
       "  <tbody>\n",
       "    <tr>\n",
       "      <th>0</th>\n",
       "      <td>1</td>\n",
       "      <td>2.964105</td>\n",
       "      <td>98</td>\n",
       "      <td>401.0</td>\n",
       "      <td>476</td>\n",
       "    </tr>\n",
       "    <tr>\n",
       "      <th>1</th>\n",
       "      <td>2</td>\n",
       "      <td>0.107955</td>\n",
       "      <td>115</td>\n",
       "      <td>402.0</td>\n",
       "      <td>469</td>\n",
       "    </tr>\n",
       "    <tr>\n",
       "      <th>2</th>\n",
       "      <td>3</td>\n",
       "      <td>0.099207</td>\n",
       "      <td>112</td>\n",
       "      <td>403.0</td>\n",
       "      <td>486</td>\n",
       "    </tr>\n",
       "    <tr>\n",
       "      <th>3</th>\n",
       "      <td>4</td>\n",
       "      <td>0.100500</td>\n",
       "      <td>141</td>\n",
       "      <td>404.0</td>\n",
       "      <td>540</td>\n",
       "    </tr>\n",
       "    <tr>\n",
       "      <th>4</th>\n",
       "      <td>5</td>\n",
       "      <td>0.102709</td>\n",
       "      <td>129</td>\n",
       "      <td>405.0</td>\n",
       "      <td>592</td>\n",
       "    </tr>\n",
       "    <tr>\n",
       "      <th>...</th>\n",
       "      <td>...</td>\n",
       "      <td>...</td>\n",
       "      <td>...</td>\n",
       "      <td>...</td>\n",
       "      <td>...</td>\n",
       "    </tr>\n",
       "    <tr>\n",
       "      <th>695</th>\n",
       "      <td>696</td>\n",
       "      <td>0.191081</td>\n",
       "      <td>1193</td>\n",
       "      <td>496.0</td>\n",
       "      <td>1175</td>\n",
       "    </tr>\n",
       "    <tr>\n",
       "      <th>696</th>\n",
       "      <td>697</td>\n",
       "      <td>0.194624</td>\n",
       "      <td>995</td>\n",
       "      <td>497.0</td>\n",
       "      <td>1137</td>\n",
       "    </tr>\n",
       "    <tr>\n",
       "      <th>697</th>\n",
       "      <td>698</td>\n",
       "      <td>0.185437</td>\n",
       "      <td>907</td>\n",
       "      <td>498.0</td>\n",
       "      <td>1064</td>\n",
       "    </tr>\n",
       "    <tr>\n",
       "      <th>698</th>\n",
       "      <td>699</td>\n",
       "      <td>0.175051</td>\n",
       "      <td>944</td>\n",
       "      <td>499.0</td>\n",
       "      <td>1011</td>\n",
       "    </tr>\n",
       "    <tr>\n",
       "      <th>699</th>\n",
       "      <td>700</td>\n",
       "      <td>0.174794</td>\n",
       "      <td>1002</td>\n",
       "      <td>500.0</td>\n",
       "      <td>1139</td>\n",
       "    </tr>\n",
       "  </tbody>\n",
       "</table>\n",
       "<p>700 rows × 5 columns</p>\n",
       "</div>"
      ],
      "text/plain": [
       "     Index  TimeElapsed  NumPeaks  ExpPrecursorMz  NumLibrarySpectra\n",
       "0        1     2.964105        98           401.0                476\n",
       "1        2     0.107955       115           402.0                469\n",
       "2        3     0.099207       112           403.0                486\n",
       "3        4     0.100500       141           404.0                540\n",
       "4        5     0.102709       129           405.0                592\n",
       "..     ...          ...       ...             ...                ...\n",
       "695    696     0.191081      1193           496.0               1175\n",
       "696    697     0.194624       995           497.0               1137\n",
       "697    698     0.185437       907           498.0               1064\n",
       "698    699     0.175051       944           499.0               1011\n",
       "699    700     0.174794      1002           500.0               1139\n",
       "\n",
       "[700 rows x 5 columns]"
      ]
     },
     "execution_count": 12,
     "metadata": {},
     "output_type": "execute_result"
    }
   ],
   "source": [
    "queryPeaksReduced20 = pd.read_csv('Data/timeGraph_queryPeaksReduced20.csv')\n",
    "queryPeaksReduced20"
   ]
  },
  {
   "cell_type": "code",
   "execution_count": 13,
   "metadata": {
    "scrolled": false
   },
   "outputs": [
    {
     "data": {
      "text/plain": [
       "(0.0, 12.0)"
      ]
     },
     "execution_count": 13,
     "metadata": {},
     "output_type": "execute_result"
    },
    {
     "data": {
      "image/png": "[encoded data removed]",
      "text/plain": [
       "<Figure size 432x288 with 1 Axes>"
      ]
     },
     "metadata": {
      "needs_background": "light"
     },
     "output_type": "display_data"
    }
   ],
   "source": [
    "plot4 = queryPeaksReduced20.plot.line(x=\"Index\",y=\"TimeElapsed\",title=\"Time Used Per Query Spectra, Sequentially\")\n",
    "plot4.set_ylim(0,12)"
   ]
  },
  {
   "cell_type": "markdown",
   "metadata": {},
   "source": [
    "This last one makes me think it's a cross between number of matching library peaks and experimental peak number. When you equalize the peak number, it takes on a dumbed-down shape of the NumLibrarySpectra graph.\n",
    "\n",
    "What if I combined the matching library spectra into one grouping and separated it out afterwards so I only had to pass over the experimental spectrum once?"
   ]
  },
  {
   "cell_type": "markdown",
   "metadata": {},
   "source": [
    "## Combine Library Spectra"
   ]
  },
  {
   "cell_type": "code",
   "execution_count": 14,
   "metadata": {},
   "outputs": [
    {
     "data": {
      "text/html": [
       "<div>\n",
       "<style scoped>\n",
       "    .dataframe tbody tr th:only-of-type {\n",
       "        vertical-align: middle;\n",
       "    }\n",
       "\n",
       "    .dataframe tbody tr th {\n",
       "        vertical-align: top;\n",
       "    }\n",
       "\n",
       "    .dataframe thead th {\n",
       "        text-align: right;\n",
       "    }\n",
       "</style>\n",
       "<table border=\"1\" class=\"dataframe\">\n",
       "  <thead>\n",
       "    <tr style=\"text-align: right;\">\n",
       "      <th></th>\n",
       "      <th>Index</th>\n",
       "      <th>TimeElapsed</th>\n",
       "      <th>NumPeaks</th>\n",
       "      <th>ExpPrecursorMz</th>\n",
       "      <th>NumLibrarySpectra</th>\n",
       "    </tr>\n",
       "  </thead>\n",
       "  <tbody>\n",
       "    <tr>\n",
       "      <th>0</th>\n",
       "      <td>1</td>\n",
       "      <td>3.363391</td>\n",
       "      <td>98</td>\n",
       "      <td>401.0</td>\n",
       "      <td>476</td>\n",
       "    </tr>\n",
       "    <tr>\n",
       "      <th>1</th>\n",
       "      <td>2</td>\n",
       "      <td>0.144382</td>\n",
       "      <td>115</td>\n",
       "      <td>402.0</td>\n",
       "      <td>469</td>\n",
       "    </tr>\n",
       "    <tr>\n",
       "      <th>2</th>\n",
       "      <td>3</td>\n",
       "      <td>0.127143</td>\n",
       "      <td>112</td>\n",
       "      <td>403.0</td>\n",
       "      <td>486</td>\n",
       "    </tr>\n",
       "    <tr>\n",
       "      <th>3</th>\n",
       "      <td>4</td>\n",
       "      <td>0.174499</td>\n",
       "      <td>141</td>\n",
       "      <td>404.0</td>\n",
       "      <td>540</td>\n",
       "    </tr>\n",
       "    <tr>\n",
       "      <th>4</th>\n",
       "      <td>5</td>\n",
       "      <td>0.176781</td>\n",
       "      <td>129</td>\n",
       "      <td>405.0</td>\n",
       "      <td>592</td>\n",
       "    </tr>\n",
       "    <tr>\n",
       "      <th>...</th>\n",
       "      <td>...</td>\n",
       "      <td>...</td>\n",
       "      <td>...</td>\n",
       "      <td>...</td>\n",
       "      <td>...</td>\n",
       "    </tr>\n",
       "    <tr>\n",
       "      <th>695</th>\n",
       "      <td>696</td>\n",
       "      <td>0.339946</td>\n",
       "      <td>1193</td>\n",
       "      <td>496.0</td>\n",
       "      <td>1175</td>\n",
       "    </tr>\n",
       "    <tr>\n",
       "      <th>696</th>\n",
       "      <td>697</td>\n",
       "      <td>0.341364</td>\n",
       "      <td>995</td>\n",
       "      <td>497.0</td>\n",
       "      <td>1137</td>\n",
       "    </tr>\n",
       "    <tr>\n",
       "      <th>697</th>\n",
       "      <td>698</td>\n",
       "      <td>0.316808</td>\n",
       "      <td>907</td>\n",
       "      <td>498.0</td>\n",
       "      <td>1064</td>\n",
       "    </tr>\n",
       "    <tr>\n",
       "      <th>698</th>\n",
       "      <td>699</td>\n",
       "      <td>0.297058</td>\n",
       "      <td>944</td>\n",
       "      <td>499.0</td>\n",
       "      <td>1011</td>\n",
       "    </tr>\n",
       "    <tr>\n",
       "      <th>699</th>\n",
       "      <td>700</td>\n",
       "      <td>0.278647</td>\n",
       "      <td>1002</td>\n",
       "      <td>500.0</td>\n",
       "      <td>1139</td>\n",
       "    </tr>\n",
       "  </tbody>\n",
       "</table>\n",
       "<p>700 rows × 5 columns</p>\n",
       "</div>"
      ],
      "text/plain": [
       "     Index  TimeElapsed  NumPeaks  ExpPrecursorMz  NumLibrarySpectra\n",
       "0        1     3.363391        98           401.0                476\n",
       "1        2     0.144382       115           402.0                469\n",
       "2        3     0.127143       112           403.0                486\n",
       "3        4     0.174499       141           404.0                540\n",
       "4        5     0.176781       129           405.0                592\n",
       "..     ...          ...       ...             ...                ...\n",
       "695    696     0.339946      1193           496.0               1175\n",
       "696    697     0.341364       995           497.0               1137\n",
       "697    698     0.316808       907           498.0               1064\n",
       "698    699     0.297058       944           499.0               1011\n",
       "699    700     0.278647      1002           500.0               1139\n",
       "\n",
       "[700 rows x 5 columns]"
      ]
     },
     "execution_count": 14,
     "metadata": {},
     "output_type": "execute_result"
    }
   ],
   "source": [
    "combineLib = pd.read_csv('Data/timeGraph_combineLib.csv')\n",
    "combineLib"
   ]
  },
  {
   "cell_type": "code",
   "execution_count": 15,
   "metadata": {},
   "outputs": [
    {
     "data": {
      "text/plain": [
       "(0.0, 12.0)"
      ]
     },
     "execution_count": 15,
     "metadata": {},
     "output_type": "execute_result"
    },
    {
     "data": {
      "image/png": "[encoded data removed]",
      "text/plain": [
       "<Figure size 432x288 with 1 Axes>"
      ]
     },
     "metadata": {
      "needs_background": "light"
     },
     "output_type": "display_data"
    }
   ],
   "source": [
    "plot5 = combineLib.plot.line(x=\"Index\",y=\"TimeElapsed\",title=\"Time Used Per Query Spectra, Sequentially\")\n",
    "plot5.set_ylim(0,12)"
   ]
  },
  {
   "cell_type": "code",
   "execution_count": null,
   "metadata": {},
   "outputs": [],
   "source": []
  }
 ],
 "metadata": {
  "kernelspec": {
   "display_name": "Python 3",
   "language": "python",
   "name": "python3"
  },
  "language_info": {
   "codemirror_mode": {
    "name": "ipython",
    "version": 3
   },
   "file_extension": ".py",
   "mimetype": "text/x-python",
   "name": "python",
   "nbconvert_exporter": "python",
   "pygments_lexer": "ipython3",
   "version": "3.8.3"
  }
 },
 "nbformat": 4,
 "nbformat_minor": 4
}
